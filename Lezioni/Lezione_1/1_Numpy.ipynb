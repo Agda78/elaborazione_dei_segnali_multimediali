{
 "cells": [
  {
   "cell_type": "markdown",
   "metadata": {},
   "source": [
    "# NUMPY"
   ]
  },
  {
   "cell_type": "code",
   "execution_count": 1,
   "metadata": {},
   "outputs": [],
   "source": [
    "# Semplice import della libreria da utilizzare\n",
    "import numpy as np "
   ]
  },
  {
   "cell_type": "code",
   "execution_count": 10,
   "metadata": {},
   "outputs": [],
   "source": [
    "# Dichiarazione di un array tramite numpy\n",
    "A = np.array([1,2,3,4,5,6])"
   ]
  },
  {
   "cell_type": "code",
   "execution_count": 18,
   "metadata": {},
   "outputs": [],
   "source": [
    "# Dichiarazione di una matrice\n",
    "M = np.array([[1,2,3],[4,5,6]])"
   ]
  },
  {
   "cell_type": "code",
   "execution_count": 20,
   "metadata": {},
   "outputs": [
    {
     "name": "stdout",
     "output_type": "stream",
     "text": [
      "3\n"
     ]
    }
   ],
   "source": [
    "# Per l'accesso ai singoli elementi si possono sfruttare gli indici della matrice\n",
    "a = M[0,2] # Prelevo l'elemento della prima riga presente al 3 posto\n",
    "print(a)"
   ]
  },
  {
   "cell_type": "code",
   "execution_count": null,
   "metadata": {},
   "outputs": [
    {
     "name": "stdout",
     "output_type": "stream",
     "text": [
      "[[4 5]\n",
      " [7 8]]\n"
     ]
    }
   ],
   "source": [
    "# Si possono estrarre anche delle sottomatrici, da cui\n",
    "A = np.array([[1,2,3],[4,5,6],[7,8,9]])\n",
    "D = A[1:3,0:2] # 1:3 indica il range 1-2 delle righe, mentre 0:2 indica il range 0-1 delle colonne\n",
    "print(D)"
   ]
  },
  {
   "cell_type": "code",
   "execution_count": 32,
   "metadata": {},
   "outputs": [
    {
     "data": {
      "text/plain": [
       "array([1, 2, 3], dtype=int16)"
      ]
     },
     "execution_count": 32,
     "metadata": {},
     "output_type": "execute_result"
    }
   ],
   "source": [
    "# Talvolta può interessarmi memorizzare i dati in un certo tipo di modo, per cui:\n",
    "A = np.array([1,2,3], dtype=np.float32)\n",
    "# Dove i tipi che sono effettivamente utilizzati sono: uint8, int64, float32, float64, complex64, bool\n",
    "# Quando dichiaro tali tipologie di dato devono essere sempre precedute da np. per identificare la libreria\n",
    "\n",
    "# Se invece desidero cambiare la tipologia di interpretazione vado ad utilizzare la funzione\n",
    "A.astype(np.int16)"
   ]
  },
  {
   "cell_type": "markdown",
   "metadata": {},
   "source": [
    "# Comandi di utilità generale"
   ]
  },
  {
   "cell_type": "code",
   "execution_count": 34,
   "metadata": {},
   "outputs": [],
   "source": [
    "righe = 2\n",
    "colonne = 3"
   ]
  },
  {
   "cell_type": "markdown",
   "metadata": {},
   "source": [
    " ### Matrice di zeri"
   ]
  },
  {
   "cell_type": "code",
   "execution_count": null,
   "metadata": {},
   "outputs": [
    {
     "name": "stdout",
     "output_type": "stream",
     "text": [
      "[[0. 0. 0.]\n",
      " [0. 0. 0.]]\n"
     ]
    }
   ],
   "source": [
    "# Matrice NxM (righe x colonne) di tutti 0\n",
    "Z = np.zeros((righe,colonne)) # se non specificato saranno interpretato con dtype float64\n",
    "print(Z)"
   ]
  },
  {
   "cell_type": "markdown",
   "metadata": {},
   "source": [
    "### Matrice di uno"
   ]
  },
  {
   "cell_type": "code",
   "execution_count": 36,
   "metadata": {},
   "outputs": [
    {
     "name": "stdout",
     "output_type": "stream",
     "text": [
      "[[1. 1. 1.]\n",
      " [1. 1. 1.]]\n"
     ]
    }
   ],
   "source": [
    "U = np.ones((righe, colonne))\n",
    "print(U) # -> se non specificato dtype = float64"
   ]
  },
  {
   "cell_type": "markdown",
   "metadata": {},
   "source": [
    "### Copia di una matrice"
   ]
  },
  {
   "cell_type": "code",
   "execution_count": 37,
   "metadata": {},
   "outputs": [
    {
     "name": "stdout",
     "output_type": "stream",
     "text": [
      "[[1. 1. 1.]\n",
      " [1. 1. 1.]]\n"
     ]
    }
   ],
   "source": [
    "C = np.copy(U)\n",
    "print(C)"
   ]
  },
  {
   "cell_type": "markdown",
   "metadata": {},
   "source": [
    "### Matrice Identica"
   ]
  },
  {
   "cell_type": "code",
   "execution_count": 39,
   "metadata": {},
   "outputs": [
    {
     "name": "stdout",
     "output_type": "stream",
     "text": [
      "[[1. 0.]\n",
      " [0. 1.]]\n"
     ]
    }
   ],
   "source": [
    "I = np.eye(righe)\n",
    "print(I)"
   ]
  },
  {
   "cell_type": "markdown",
   "metadata": {},
   "source": [
    "### Arange"
   ]
  },
  {
   "cell_type": "code",
   "execution_count": null,
   "metadata": {},
   "outputs": [
    {
     "name": "stdout",
     "output_type": "stream",
     "text": [
      "[0 1 2 3 4 5 6 7 8 9]\n"
     ]
    }
   ],
   "source": [
    "# Definizione di un vettore di elementi che vanno da 0 a N - 1, dove N è specificato nella funzione\n",
    "K = np.arange(10)\n",
    "print(K)"
   ]
  },
  {
   "cell_type": "markdown",
   "metadata": {},
   "source": [
    "### Trasposta"
   ]
  },
  {
   "cell_type": "code",
   "execution_count": 47,
   "metadata": {},
   "outputs": [
    {
     "name": "stdout",
     "output_type": "stream",
     "text": [
      "[[1. 1.]\n",
      " [1. 1.]\n",
      " [1. 1.]]\n"
     ]
    }
   ],
   "source": [
    "B = U.T\n",
    "print(B)"
   ]
  },
  {
   "cell_type": "markdown",
   "metadata": {},
   "source": [
    "### Affiancamento di matrici"
   ]
  },
  {
   "cell_type": "code",
   "execution_count": 52,
   "metadata": {},
   "outputs": [
    {
     "name": "stdout",
     "output_type": "stream",
     "text": [
      "[[0. 0. 0. 1. 1. 1.]\n",
      " [0. 0. 0. 1. 1. 1.]]\n"
     ]
    }
   ],
   "source": [
    "ZU = np.hstack((Z,U))\n",
    "print(ZU)"
   ]
  },
  {
   "cell_type": "markdown",
   "metadata": {},
   "source": [
    "### Sovrapposizione di Matrici"
   ]
  },
  {
   "cell_type": "code",
   "execution_count": 53,
   "metadata": {},
   "outputs": [
    {
     "name": "stdout",
     "output_type": "stream",
     "text": [
      "[[0. 0. 0.]\n",
      " [0. 0. 0.]\n",
      " [1. 1. 1.]\n",
      " [1. 1. 1.]]\n"
     ]
    }
   ],
   "source": [
    "ZU = np.vstack((Z,U))\n",
    "print(ZU)"
   ]
  },
  {
   "cell_type": "markdown",
   "metadata": {},
   "source": [
    "## Operazioni sugli array"
   ]
  },
  {
   "cell_type": "code",
   "execution_count": 73,
   "metadata": {},
   "outputs": [
    {
     "name": "stdout",
     "output_type": "stream",
     "text": [
      "float64\n",
      "(2, 3)\n",
      "2\n",
      "6\n",
      "2\n",
      "[[1 2 3]\n",
      " [4 5 6]]\n",
      "[[3 2 1]\n",
      " [6 5 4]]\n",
      "[[4 5 6]\n",
      " [1 2 3]]\n",
      "[[ 0.54030231 -0.41614684 -0.9899925 ]\n",
      " [-0.65364362  0.28366219  0.96017029]]\n",
      "1\n",
      "[4 5 6]\n",
      "[3 6]\n",
      "[1 2 3 4 5 6]\n",
      "[1 4 2 5 3 6]\n"
     ]
    }
   ],
   "source": [
    "# Visualizzazione del dtype di una matrice\n",
    "print(Z.dtype)\n",
    "\n",
    "# Numero di elementi lungo ogni dimensione\n",
    "print(Z.shape)\n",
    "\n",
    "# Numero di dimensioni dell'array, se matrice 2 se vettore 1 ecc.\n",
    "print(Z.ndim)\n",
    "\n",
    "# Numero totale di elementi dell'array\n",
    "print(Z.size)\n",
    "\n",
    "# numero di elementi lungo la prima dimensione (righe)\n",
    "print(len(Z))\n",
    "\n",
    "# Ordine delle colonne/righe invertito\n",
    "print(M) # Matrice originale\n",
    "print(M[:,::-1]) # colonne invertite\n",
    "print(M[::-1,:]) # righe invertite\n",
    "\n",
    "# Funzioni matematiche punto punto (cos, abs, log, exp)\n",
    "print(np.cos(M)) # Calcolo del coseno punto punto\n",
    "\n",
    "# Calcolo del minimo/massimo (min,max)\n",
    "print(np.min(M))\n",
    "\n",
    "# Calcolo del minimo per ogni colonna -> 0, riga -> 1\n",
    "print(np.max(M,0))\n",
    "print(np.max(M,1))\n",
    "\n",
    "# Concatenamento delle righe/ delle colonne\n",
    "print(M.flatten(order='C')) # concatena le righe\n",
    "print(M.flatten(order='F')) # concatena le colonne\n",
    "\n",
    "# Salvataggio dei dati\n",
    "np.save('prova.npy', M)\n",
    "\n",
    "# Caricamento dei dati\n",
    "K = np.load('prova.npy')"
   ]
  }
 ],
 "metadata": {
  "kernelspec": {
   "display_name": "course",
   "language": "python",
   "name": "python3"
  },
  "language_info": {
   "codemirror_mode": {
    "name": "ipython",
    "version": 3
   },
   "file_extension": ".py",
   "mimetype": "text/x-python",
   "name": "python",
   "nbconvert_exporter": "python",
   "pygments_lexer": "ipython3",
   "version": "3.9.16"
  }
 },
 "nbformat": 4,
 "nbformat_minor": 2
}
